import pickle
import pandas as pd
from sklearn.model_selection import train_test_split
from sklearn.preprocessing import StandardScaler
import numpy as np
from sklearn.ensemble import RandomForestClassifier
from sklearn.metrics import classification_report


# Chemin vers votre fichier de données
data = pd.read_excel('DataSet_TestMarkov.xlsx')

from sklearn.model_selection import train_test_split

# Assume that 'Eth Spent Over Time (ETH)' is the target variable and 'ROI' and 'Dormancy' are the features
y = (data['Eth Spent Over Time (ETH)'] > data['Eth Spent Over Time (ETH)'].quantile(0.15)).astype(int)  # 1 if ETH > Q1(ETH), else 0
X = data[['ROI', 'Dormancy']]

# Split the data into training and test sets
X_train, X_test, y_train, y_test = train_test_split(X, y, test_size=0.2, random_state=42)

# Standardize the features
sc = StandardScaler()
X_train = sc.fit_transform(X_train)
X_test = sc.transform(X_test)

# Set the seed for reproducibility
np.random.seed(42)

# Train the model
rf_model_sale = RandomForestClassifier(n_estimators=200, max_depth=10, random_state=42)
rf_model_sale.fit(X_train, y_train)

# Save the model to a file
with open('rf_model_sale_rev06.pkl', 'wb') as f:
    pickle.dump(rf_model_sale, f)

# Predict the sale probabilities
y_pred_proba = rf_model_sale.predict_proba(X_test)[:, 1]

# Add noise to the probabilities to avoid zero probabilities
noise = np.random.normal(0, 0.3, size=y_pred_proba.shape)
y_pred_proba_noisy = np.clip(y_pred_proba + noise, 0, 1)

# Show the classification report
print(classification_report(y_test, y_pred_proba_noisy > 0.5))

# Show the first few noisy probabilities
y_pred_proba_noisy[:5]

X_train, X_test, y_train, y_test = train_test_split(X, y, test_size=0.2, random_state=42)
