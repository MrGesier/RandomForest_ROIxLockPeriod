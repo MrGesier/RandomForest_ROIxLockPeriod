import numpy as np
import pandas as pd
import pickle
import matplotlib.pyplot as plt

# Load the model from the file
with open('rf_model_sale_rev06.pkl', 'rb') as f:
    rf_model_sale = pickle.load(f)

# Input variables
drift = 0.10
sigma = 0.35
period = 600
num_runs = 6000
average_vesting_price = 0.42

# Tables
vesting_schedule = pd.read_excel("Modified_Vesting_Schedule _daily.xlsx")
vesting_period = len(vesting_schedule)
period = vesting_period

def calculate_cumulative_tokens_sold_with_next_unlock(start_price):
    average_vesting_price = start_price
    price_scenarios = []
    for run in range(num_runs):
        prices = [average_vesting_price]
        for day in range(1, period):
            new_price = prices[-1] * np.exp((drift - 0.5 * sigma**2) + sigma * np.random.normal(0, 1))
            if day == 90 and new_price > 30 * average_vesting_price:
                break
            prices.append(new_price)
        price_scenarios.append(prices)

    price_scenarios = [prices for prices in price_scenarios if len(prices) == period]
    price_scenarios = np.array(price_scenarios)

    min_prices = np.min(price_scenarios, axis=0)
    median_prices = np.median(price_scenarios, axis=0)
    max_prices = np.max(price_scenarios, axis=0)

    rois = (median_prices - average_vesting_price) / average_vesting_price

    def compute_sell_probability(roi, dormancy):
        input_data_sale = np.array([[roi, dormancy]])
        prob_sale = rf_model_sale.predict_proba(input_data_sale)[:, 1]
        noise = np.random.normal(0, 0.025)
        return np.clip(prob_sale + noise, 0, 1)

    for i, row in vesting_schedule.iterrows():
        roi = rois[i % period]
        dormancy = row["Dormancy"]
        vesting_schedule.at[i, "Sell Probability"] = compute_sell_probability(roi, dormancy)

    vesting_schedule["Tokens Sold"] = vesting_schedule["Sell Probability"] * vesting_schedule["Tokens Unlocked"]
    vesting_schedule["Tokens Held"] = vesting_schedule["Tokens Unlocked"] - vesting_schedule["Tokens Sold"]
    vesting_schedule["Unsold Tokens"] = 0  # Initialize the column

    for i in range(len(vesting_schedule) - 1):
        unsold_tokens = vesting_schedule.at[i, "Tokens Held"]
        if unsold_tokens > 0:
            for j in range(i+1, len(vesting_schedule)):
                if vesting_schedule.at[j, "Tokens Unlocked"] > 0:
                    vesting_schedule.at[j, "Tokens Unlocked"] += unsold_tokens
                    vesting_schedule.at[i, "Unsold Tokens"] = unsold_tokens
                    
                    # Recompute the sell probability and tokens sold for day j
                    roi_j = rois[j % period]
                    dormancy_j = vesting_schedule.at[j, "Dormancy"]
                    new_sell_prob = compute_sell_probability(roi_j, dormancy_j)
                    vesting_schedule.at[j, "Sell Probability"] = new_sell_prob
                    vesting_schedule.at[j, "Tokens Sold"] = new_sell_prob * vesting_schedule.at[j, "Tokens Unlocked"]
                    vesting_schedule.at[j, "Tokens Held"] = vesting_schedule.at[j, "Tokens Unlocked"] - vesting_schedule.at[j, "Tokens Sold"]
                    break

    cumulative_tokens_sold = vesting_schedule["Tokens Sold"].cumsum()

    return cumulative_tokens_sold, vesting_schedule, price_scenarios, median_prices

cumulative_tokens_sold_original_updated, vesting_schedule_original_updated, price_scenarios_original_updated, _ = calculate_cumulative_tokens_sold_with_next_unlock(average_vesting_price)

# Replace all values above the threshold with NaN
max_price_threshold = average_vesting_price * 50
price_scenarios_original_updated = np.where(price_scenarios_original_updated > max_price_threshold, np.nan, price_scenarios_original_updated)

# Recalculate median after removing scenarios
median_prices = np.nanmedian(price_scenarios_original_updated, axis=0)

# Display the results
print(vesting_schedule_original_updated[["Tokens Unlocked", "Tokens Sold", "Tokens Held", "Unsold Tokens"]])

fig, (ax1, ax2) = plt.subplots(2, 1, figsize=(14, 12), sharex=True)

# Plot for Sell Probability and Median Price on Each Token Unlock
ax1.plot(vesting_schedule_original_updated.index, vesting_schedule_original_updated["Sell Probability"], label='Sell Probability', color='purple', marker='o', markersize=4, linestyle='-')
ax1.set_title('Sell Probability and Median Price on Each Token Unlock')
ax1.set_ylabel('Sell Probability', color='purple')
ax1.legend(loc='upper left')
ax1.grid(False)

ax2_secondary = ax1.twinx()
ax2_secondary.plot(range(period), median_prices, label='Median Price', color='blue')
ax2_secondary.set_ylabel('Median Price', color='blue')
ax2_secondary.legend(loc='upper right')

# Wide Bar plot for Distribution of Tokens Over Time
bar_width = 10  # Adjust this value for desired bar width
indices = vesting_schedule_original_updated.index

p1 = ax2.bar(indices, vesting_schedule_original_updated["Tokens Sold"], bar_width, label='Tokens Sold', color='green', alpha=0.6)
p2 = ax2.bar(indices, vesting_schedule_original_updated["Tokens Held"], bar_width, bottom=vesting_schedule_original_updated["Tokens Sold"], label='Tokens Held', color='blue', alpha=0.6)
p3 = ax2.bar(indices, vesting_schedule_original_updated["Unsold Tokens"], bar_width, bottom=vesting_schedule_original_updated["Tokens Sold"] + vesting_schedule_original_updated["Tokens Held"], label='Unallocated Tokens', color='red', alpha=0.6)

ax2.set_title('Distribution of Tokens Over Time')
ax2.set_xlabel('Days')
ax2.set_ylabel('Number of Tokens')
ax2.legend(loc='upper left')
ax2.grid(False)

plt.tight_layout()
plt.show()


